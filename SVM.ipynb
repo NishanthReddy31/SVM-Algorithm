{
 "cells": [
  {
   "cell_type": "code",
   "execution_count": 2,
   "id": "e8939af1",
   "metadata": {},
   "outputs": [],
   "source": [
    "import numpy as np\n",
    "import pandas as pd\n",
    "import matplotlib.pyplot as plt\n",
    "%matplotlib inline\n",
    "import seaborn as sns"
   ]
  },
  {
   "cell_type": "code",
   "execution_count": 3,
   "id": "cf699e87",
   "metadata": {},
   "outputs": [],
   "source": [
    "df=pd.read_csv('pulsar_data.csv')"
   ]
  },
  {
   "cell_type": "code",
   "execution_count": 4,
   "id": "9747c8de",
   "metadata": {},
   "outputs": [
    {
     "data": {
      "text/html": [
       "<div>\n",
       "<style scoped>\n",
       "    .dataframe tbody tr th:only-of-type {\n",
       "        vertical-align: middle;\n",
       "    }\n",
       "\n",
       "    .dataframe tbody tr th {\n",
       "        vertical-align: top;\n",
       "    }\n",
       "\n",
       "    .dataframe thead th {\n",
       "        text-align: right;\n",
       "    }\n",
       "</style>\n",
       "<table border=\"1\" class=\"dataframe\">\n",
       "  <thead>\n",
       "    <tr style=\"text-align: right;\">\n",
       "      <th></th>\n",
       "      <th>Mean of the integrated profile</th>\n",
       "      <th>Standard deviation of the integrated profile</th>\n",
       "      <th>Excess kurtosis of the integrated profile</th>\n",
       "      <th>Skewness of the integrated profile</th>\n",
       "      <th>Mean of the DM-SNR curve</th>\n",
       "      <th>Standard deviation of the DM-SNR curve</th>\n",
       "      <th>Excess kurtosis of the DM-SNR curve</th>\n",
       "      <th>Skewness of the DM-SNR curve</th>\n",
       "      <th>target_class</th>\n",
       "    </tr>\n",
       "  </thead>\n",
       "  <tbody>\n",
       "    <tr>\n",
       "      <th>0</th>\n",
       "      <td>121.156250</td>\n",
       "      <td>48.372971</td>\n",
       "      <td>0.375485</td>\n",
       "      <td>-0.013165</td>\n",
       "      <td>3.168896</td>\n",
       "      <td>18.399367</td>\n",
       "      <td>7.449874</td>\n",
       "      <td>65.159298</td>\n",
       "      <td>0.0</td>\n",
       "    </tr>\n",
       "    <tr>\n",
       "      <th>1</th>\n",
       "      <td>76.968750</td>\n",
       "      <td>36.175557</td>\n",
       "      <td>0.712898</td>\n",
       "      <td>3.388719</td>\n",
       "      <td>2.399666</td>\n",
       "      <td>17.570997</td>\n",
       "      <td>9.414652</td>\n",
       "      <td>102.722975</td>\n",
       "      <td>0.0</td>\n",
       "    </tr>\n",
       "    <tr>\n",
       "      <th>2</th>\n",
       "      <td>130.585938</td>\n",
       "      <td>53.229534</td>\n",
       "      <td>0.133408</td>\n",
       "      <td>-0.297242</td>\n",
       "      <td>2.743311</td>\n",
       "      <td>22.362553</td>\n",
       "      <td>8.508364</td>\n",
       "      <td>74.031324</td>\n",
       "      <td>0.0</td>\n",
       "    </tr>\n",
       "    <tr>\n",
       "      <th>3</th>\n",
       "      <td>156.398438</td>\n",
       "      <td>48.865942</td>\n",
       "      <td>-0.215989</td>\n",
       "      <td>-0.171294</td>\n",
       "      <td>17.471572</td>\n",
       "      <td>NaN</td>\n",
       "      <td>2.958066</td>\n",
       "      <td>7.197842</td>\n",
       "      <td>0.0</td>\n",
       "    </tr>\n",
       "    <tr>\n",
       "      <th>4</th>\n",
       "      <td>84.804688</td>\n",
       "      <td>36.117659</td>\n",
       "      <td>0.825013</td>\n",
       "      <td>3.274125</td>\n",
       "      <td>2.790134</td>\n",
       "      <td>20.618009</td>\n",
       "      <td>8.405008</td>\n",
       "      <td>76.291128</td>\n",
       "      <td>0.0</td>\n",
       "    </tr>\n",
       "  </tbody>\n",
       "</table>\n",
       "</div>"
      ],
      "text/plain": [
       "    Mean of the integrated profile  \\\n",
       "0                       121.156250   \n",
       "1                        76.968750   \n",
       "2                       130.585938   \n",
       "3                       156.398438   \n",
       "4                        84.804688   \n",
       "\n",
       "    Standard deviation of the integrated profile  \\\n",
       "0                                      48.372971   \n",
       "1                                      36.175557   \n",
       "2                                      53.229534   \n",
       "3                                      48.865942   \n",
       "4                                      36.117659   \n",
       "\n",
       "    Excess kurtosis of the integrated profile  \\\n",
       "0                                    0.375485   \n",
       "1                                    0.712898   \n",
       "2                                    0.133408   \n",
       "3                                   -0.215989   \n",
       "4                                    0.825013   \n",
       "\n",
       "    Skewness of the integrated profile   Mean of the DM-SNR curve  \\\n",
       "0                            -0.013165                   3.168896   \n",
       "1                             3.388719                   2.399666   \n",
       "2                            -0.297242                   2.743311   \n",
       "3                            -0.171294                  17.471572   \n",
       "4                             3.274125                   2.790134   \n",
       "\n",
       "    Standard deviation of the DM-SNR curve  \\\n",
       "0                                18.399367   \n",
       "1                                17.570997   \n",
       "2                                22.362553   \n",
       "3                                      NaN   \n",
       "4                                20.618009   \n",
       "\n",
       "    Excess kurtosis of the DM-SNR curve   Skewness of the DM-SNR curve  \\\n",
       "0                              7.449874                      65.159298   \n",
       "1                              9.414652                     102.722975   \n",
       "2                              8.508364                      74.031324   \n",
       "3                              2.958066                       7.197842   \n",
       "4                              8.405008                      76.291128   \n",
       "\n",
       "   target_class  \n",
       "0           0.0  \n",
       "1           0.0  \n",
       "2           0.0  \n",
       "3           0.0  \n",
       "4           0.0  "
      ]
     },
     "execution_count": 4,
     "metadata": {},
     "output_type": "execute_result"
    }
   ],
   "source": [
    "df.head()"
   ]
  },
  {
   "cell_type": "code",
   "execution_count": 5,
   "id": "a1baaa74",
   "metadata": {},
   "outputs": [
    {
     "data": {
      "text/plain": [
       "(12528, 9)"
      ]
     },
     "execution_count": 5,
     "metadata": {},
     "output_type": "execute_result"
    }
   ],
   "source": [
    "df.shape"
   ]
  },
  {
   "cell_type": "code",
   "execution_count": 6,
   "id": "4a04ba1d",
   "metadata": {},
   "outputs": [
    {
     "data": {
      "text/plain": [
       "Index([' Mean of the integrated profile',\n",
       "       ' Standard deviation of the integrated profile',\n",
       "       ' Excess kurtosis of the integrated profile',\n",
       "       ' Skewness of the integrated profile', ' Mean of the DM-SNR curve',\n",
       "       ' Standard deviation of the DM-SNR curve',\n",
       "       ' Excess kurtosis of the DM-SNR curve', ' Skewness of the DM-SNR curve',\n",
       "       'target_class'],\n",
       "      dtype='object')"
      ]
     },
     "execution_count": 6,
     "metadata": {},
     "output_type": "execute_result"
    }
   ],
   "source": [
    "df.columns"
   ]
  },
  {
   "cell_type": "code",
   "execution_count": 7,
   "id": "a91eacff",
   "metadata": {},
   "outputs": [],
   "source": [
    "df.columns=df.columns.str.strip()"
   ]
  },
  {
   "cell_type": "code",
   "execution_count": 8,
   "id": "0e073070",
   "metadata": {},
   "outputs": [
    {
     "data": {
      "text/plain": [
       "Index(['Mean of the integrated profile',\n",
       "       'Standard deviation of the integrated profile',\n",
       "       'Excess kurtosis of the integrated profile',\n",
       "       'Skewness of the integrated profile', 'Mean of the DM-SNR curve',\n",
       "       'Standard deviation of the DM-SNR curve',\n",
       "       'Excess kurtosis of the DM-SNR curve', 'Skewness of the DM-SNR curve',\n",
       "       'target_class'],\n",
       "      dtype='object')"
      ]
     },
     "execution_count": 8,
     "metadata": {},
     "output_type": "execute_result"
    }
   ],
   "source": [
    "df.columns"
   ]
  },
  {
   "cell_type": "code",
   "execution_count": 9,
   "id": "76c8f789",
   "metadata": {},
   "outputs": [
    {
     "data": {
      "text/plain": [
       "0.0    11375\n",
       "1.0     1153\n",
       "Name: target_class, dtype: int64"
      ]
     },
     "execution_count": 9,
     "metadata": {},
     "output_type": "execute_result"
    }
   ],
   "source": [
    "df['target_class'].value_counts()"
   ]
  },
  {
   "cell_type": "code",
   "execution_count": 10,
   "id": "0239d358",
   "metadata": {},
   "outputs": [
    {
     "name": "stdout",
     "output_type": "stream",
     "text": [
      "<class 'pandas.core.frame.DataFrame'>\n",
      "RangeIndex: 12528 entries, 0 to 12527\n",
      "Data columns (total 9 columns):\n",
      " #   Column                                        Non-Null Count  Dtype  \n",
      "---  ------                                        --------------  -----  \n",
      " 0   Mean of the integrated profile                12528 non-null  float64\n",
      " 1   Standard deviation of the integrated profile  12528 non-null  float64\n",
      " 2   Excess kurtosis of the integrated profile     10793 non-null  float64\n",
      " 3   Skewness of the integrated profile            12528 non-null  float64\n",
      " 4   Mean of the DM-SNR curve                      12528 non-null  float64\n",
      " 5   Standard deviation of the DM-SNR curve        11350 non-null  float64\n",
      " 6   Excess kurtosis of the DM-SNR curve           12528 non-null  float64\n",
      " 7   Skewness of the DM-SNR curve                  11903 non-null  float64\n",
      " 8   target_class                                  12528 non-null  float64\n",
      "dtypes: float64(9)\n",
      "memory usage: 881.0 KB\n"
     ]
    }
   ],
   "source": [
    "df.info()"
   ]
  },
  {
   "cell_type": "code",
   "execution_count": 11,
   "id": "b34359d3",
   "metadata": {},
   "outputs": [
    {
     "data": {
      "text/plain": [
       "Mean of the integrated profile                     0\n",
       "Standard deviation of the integrated profile       0\n",
       "Excess kurtosis of the integrated profile       1735\n",
       "Skewness of the integrated profile                 0\n",
       "Mean of the DM-SNR curve                           0\n",
       "Standard deviation of the DM-SNR curve          1178\n",
       "Excess kurtosis of the DM-SNR curve                0\n",
       "Skewness of the DM-SNR curve                     625\n",
       "target_class                                       0\n",
       "dtype: int64"
      ]
     },
     "execution_count": 11,
     "metadata": {},
     "output_type": "execute_result"
    }
   ],
   "source": [
    "df.isnull().sum()"
   ]
  },
  {
   "cell_type": "code",
   "execution_count": 12,
   "id": "adfa8545",
   "metadata": {},
   "outputs": [
    {
     "data": {
      "text/plain": [
       "13.848978288633463"
      ]
     },
     "execution_count": 12,
     "metadata": {},
     "output_type": "execute_result"
    }
   ],
   "source": [
    "df['Excess kurtosis of the integrated profile'].isnull().sum()/df.shape[0]*100"
   ]
  },
  {
   "cell_type": "code",
   "execution_count": 13,
   "id": "9d537646",
   "metadata": {},
   "outputs": [
    {
     "data": {
      "text/plain": [
       "<AxesSubplot:ylabel='Density'>"
      ]
     },
     "execution_count": 13,
     "metadata": {},
     "output_type": "execute_result"
    },
    {
     "data": {
      "image/png": "[encoded data removed]",
      "text/plain": [
       "<Figure size 432x288 with 1 Axes>"
      ]
     },
     "metadata": {
      "needs_background": "light"
     },
     "output_type": "display_data"
    }
   ],
   "source": [
    "ageplot=df['Excess kurtosis of the integrated profile'].hist(bins=10,stacked=True,density=True)\n",
    "df['Excess kurtosis of the integrated profile'].plot(kind='density')"
   ]
  },
  {
   "cell_type": "code",
   "execution_count": 14,
   "id": "e38aa4f0",
   "metadata": {},
   "outputs": [
    {
     "data": {
      "text/plain": [
       "0.47854774946613493"
      ]
     },
     "execution_count": 14,
     "metadata": {},
     "output_type": "execute_result"
    }
   ],
   "source": [
    "mean1=df['Excess kurtosis of the integrated profile'].mean()\n",
    "mean1"
   ]
  },
  {
   "cell_type": "code",
   "execution_count": 15,
   "id": "d0d4c58c",
   "metadata": {},
   "outputs": [],
   "source": [
    "df['Excess kurtosis of the integrated profile'].fillna(mean1,inplace=True)"
   ]
  },
  {
   "cell_type": "code",
   "execution_count": 16,
   "id": "b966c88f",
   "metadata": {},
   "outputs": [
    {
     "data": {
      "text/plain": [
       "9.402937420178798"
      ]
     },
     "execution_count": 16,
     "metadata": {},
     "output_type": "execute_result"
    }
   ],
   "source": [
    "df['Standard deviation of the DM-SNR curve'].isnull().sum()/df.shape[0]*100"
   ]
  },
  {
   "cell_type": "code",
   "execution_count": 17,
   "id": "8fef9691",
   "metadata": {},
   "outputs": [
    {
     "data": {
      "text/plain": [
       "<AxesSubplot:ylabel='Density'>"
      ]
     },
     "execution_count": 17,
     "metadata": {},
     "output_type": "execute_result"
    },
    {
     "data": {
      "image/png": "[encoded data removed]",
      "text/plain": [
       "<Figure size 432x288 with 1 Axes>"
      ]
     },
     "metadata": {
      "needs_background": "light"
     },
     "output_type": "display_data"
    }
   ],
   "source": [
    "ageplot=df['Standard deviation of the DM-SNR curve'].hist(bins=10,stacked=True,density=True)\n",
    "df['Standard deviation of the DM-SNR curve'].plot(kind='density')"
   ]
  },
  {
   "cell_type": "code",
   "execution_count": 18,
   "id": "0f992521",
   "metadata": {},
   "outputs": [],
   "source": [
    "median1=df['Standard deviation of the DM-SNR curve'].median()"
   ]
  },
  {
   "cell_type": "code",
   "execution_count": 19,
   "id": "ddb22517",
   "metadata": {},
   "outputs": [],
   "source": [
    "df['Standard deviation of the DM-SNR curve'].fillna(median1,inplace=True)"
   ]
  },
  {
   "cell_type": "code",
   "execution_count": 20,
   "id": "041ab8d7",
   "metadata": {},
   "outputs": [
    {
     "data": {
      "text/plain": [
       "Mean of the integrated profile                    0\n",
       "Standard deviation of the integrated profile      0\n",
       "Excess kurtosis of the integrated profile         0\n",
       "Skewness of the integrated profile                0\n",
       "Mean of the DM-SNR curve                          0\n",
       "Standard deviation of the DM-SNR curve            0\n",
       "Excess kurtosis of the DM-SNR curve               0\n",
       "Skewness of the DM-SNR curve                    625\n",
       "target_class                                      0\n",
       "dtype: int64"
      ]
     },
     "execution_count": 20,
     "metadata": {},
     "output_type": "execute_result"
    }
   ],
   "source": [
    "df.isnull().sum()"
   ]
  },
  {
   "cell_type": "code",
   "execution_count": 21,
   "id": "fefa1325",
   "metadata": {},
   "outputs": [
    {
     "data": {
      "text/plain": [
       "4.988825031928481"
      ]
     },
     "execution_count": 21,
     "metadata": {},
     "output_type": "execute_result"
    }
   ],
   "source": [
    "df['Skewness of the DM-SNR curve'].isnull().sum()/df.shape[0]*100"
   ]
  },
  {
   "cell_type": "code",
   "execution_count": 22,
   "id": "69ff04fb",
   "metadata": {},
   "outputs": [
    {
     "data": {
      "text/plain": [
       "<AxesSubplot:ylabel='Density'>"
      ]
     },
     "execution_count": 22,
     "metadata": {},
     "output_type": "execute_result"
    },
    {
     "data": {
      "image/png": "[encoded data removed]",
      "text/plain": [
       "<Figure size 432x288 with 1 Axes>"
      ]
     },
     "metadata": {
      "needs_background": "light"
     },
     "output_type": "display_data"
    }
   ],
   "source": [
    "ageplot=df['Skewness of the DM-SNR curve'].hist(bins=10,stacked=True,density=True)\n",
    "df['Skewness of the DM-SNR curve'].plot(kind='density')"
   ]
  },
  {
   "cell_type": "code",
   "execution_count": 23,
   "id": "35074c76",
   "metadata": {},
   "outputs": [],
   "source": [
    "median2=df['Skewness of the DM-SNR curve'].median()"
   ]
  },
  {
   "cell_type": "code",
   "execution_count": 24,
   "id": "bd454d01",
   "metadata": {},
   "outputs": [],
   "source": [
    "df['Skewness of the DM-SNR curve'].fillna(median2,inplace=True)"
   ]
  },
  {
   "cell_type": "code",
   "execution_count": 25,
   "id": "d63ea965",
   "metadata": {},
   "outputs": [
    {
     "data": {
      "text/plain": [
       "Mean of the integrated profile                  0\n",
       "Standard deviation of the integrated profile    0\n",
       "Excess kurtosis of the integrated profile       0\n",
       "Skewness of the integrated profile              0\n",
       "Mean of the DM-SNR curve                        0\n",
       "Standard deviation of the DM-SNR curve          0\n",
       "Excess kurtosis of the DM-SNR curve             0\n",
       "Skewness of the DM-SNR curve                    0\n",
       "target_class                                    0\n",
       "dtype: int64"
      ]
     },
     "execution_count": 25,
     "metadata": {},
     "output_type": "execute_result"
    }
   ],
   "source": [
    "df.isnull().sum()"
   ]
  },
  {
   "cell_type": "code",
   "execution_count": 28,
   "id": "60bfd885",
   "metadata": {},
   "outputs": [
    {
     "data": {
      "text/plain": [
       "Text(0, 0.5, 'target_class')"
      ]
     },
     "execution_count": 28,
     "metadata": {},
     "output_type": "execute_result"
    },
    {
     "data": {
      "image/png": "[encoded data removed]",
      "text/plain": [
       "<Figure size 1728x1440 with 8 Axes>"
      ]
     },
     "metadata": {
      "needs_background": "light"
     },
     "output_type": "display_data"
    }
   ],
   "source": [
    "plt.figure(figsize=(24,20))\n",
    "\n",
    "\n",
    "plt.subplot(4, 2, 1)\n",
    "fig = df.boxplot(column='Mean of the integrated profile')\n",
    "fig.set_title('')\n",
    "fig.set_ylabel('Mean of the integrated profile ')\n",
    "\n",
    "\n",
    "plt.subplot(4, 2, 2)\n",
    "fig = df.boxplot(column='Standard deviation of the integrated profile')\n",
    "fig.set_title('')\n",
    "fig.set_ylabel('Standard deviation of the integrated profile')\n",
    "\n",
    "\n",
    "plt.subplot(4, 2, 3)\n",
    "fig = df.boxplot(column='Excess kurtosis of the integrated profile')\n",
    "fig.set_title('')\n",
    "fig.set_ylabel('Excess kurtosis of the integrated profile')\n",
    "\n",
    "\n",
    "plt.subplot(4, 2, 4)\n",
    "fig = df.boxplot(column='Skewness of the integrated profile')\n",
    "fig.set_title('')\n",
    "fig.set_ylabel('Skewness of the integrated profile')\n",
    "\n",
    "\n",
    "plt.subplot(4, 2, 5)\n",
    "fig = df.boxplot(column='Mean of the DM-SNR curve')\n",
    "fig.set_title('')\n",
    "fig.set_ylabel('Mean of the DM-SNR curve')\n",
    "\n",
    "\n",
    "plt.subplot(4, 2, 6)\n",
    "fig = df.boxplot(column='Excess kurtosis of the DM-SNR curve')\n",
    "fig.set_title('')\n",
    "fig.set_ylabel('Excess kurtosis of the DM-SNR curve')\n",
    "\n",
    "\n",
    "plt.subplot(4, 2, 7)\n",
    "fig = df.boxplot(column='Skewness of the DM-SNR curve')\n",
    "fig.set_title('')\n",
    "fig.set_ylabel('Skewness of the DM-SNR curve')\n",
    "\n",
    "\n",
    "plt.subplot(4, 2, 8)\n",
    "fig = df.boxplot(column='target_class')\n",
    "fig.set_title('')\n",
    "fig.set_ylabel('target_class')"
   ]
  },
  {
   "cell_type": "code",
   "execution_count": 30,
   "id": "0193af7f",
   "metadata": {},
   "outputs": [],
   "source": [
    "x=df.drop('target_class',axis=1)\n",
    "y=df['target_class']"
   ]
  },
  {
   "cell_type": "code",
   "execution_count": 31,
   "id": "11a087e2",
   "metadata": {},
   "outputs": [],
   "source": [
    "from sklearn.model_selection import train_test_split\n",
    "\n",
    "xtrain,xtest,ytrain,ytest=train_test_split(x,y,test_size=0.2,random_state=0)"
   ]
  },
  {
   "cell_type": "code",
   "execution_count": 32,
   "id": "6c700bb9",
   "metadata": {},
   "outputs": [
    {
     "data": {
      "text/plain": [
       "((10022, 8), (2506, 8))"
      ]
     },
     "execution_count": 32,
     "metadata": {},
     "output_type": "execute_result"
    }
   ],
   "source": [
    "xtrain.shape,xtest.shape"
   ]
  },
  {
   "cell_type": "code",
   "execution_count": 33,
   "id": "cbf3f430",
   "metadata": {},
   "outputs": [],
   "source": [
    "from sklearn.preprocessing import StandardScaler\n",
    "\n",
    "c=xtrain.columns\n",
    "scaler=StandardScaler()\n",
    "xtrain=scaler.fit_transform(xtrain)\n",
    "xtest=scaler.transform(xtest)"
   ]
  },
  {
   "cell_type": "code",
   "execution_count": 34,
   "id": "d854b67e",
   "metadata": {},
   "outputs": [],
   "source": [
    "xtrain=pd.DataFrame(xtrain,columns=[c])\n",
    "xtest=pd.DataFrame(xtest,columns=[c])"
   ]
  },
  {
   "cell_type": "code",
   "execution_count": 36,
   "id": "a26ea5af",
   "metadata": {},
   "outputs": [],
   "source": [
    "from sklearn.svm import SVC\n",
    "\n",
    "svc1=SVC()\n",
    "svc1.fit(xtrain,ytrain)\n",
    "ypred=svc1.predict(xtest)"
   ]
  },
  {
   "cell_type": "code",
   "execution_count": 37,
   "id": "da58ba81",
   "metadata": {},
   "outputs": [
    {
     "name": "stdout",
     "output_type": "stream",
     "text": [
      "0.9796488427773344\n"
     ]
    }
   ],
   "source": [
    "from sklearn.metrics import accuracy_score\n",
    "print(accuracy_score(ytest,ypred))"
   ]
  },
  {
   "cell_type": "code",
   "execution_count": 40,
   "id": "ccad0550",
   "metadata": {},
   "outputs": [],
   "source": [
    "svc2=SVC(C=100)\n",
    "svc2.fit(xtrain,ytrain)\n",
    "ypred2=svc2.predict(xtest)"
   ]
  },
  {
   "cell_type": "code",
   "execution_count": 41,
   "id": "930aac13",
   "metadata": {},
   "outputs": [
    {
     "name": "stdout",
     "output_type": "stream",
     "text": [
      "0.9796488427773344\n"
     ]
    }
   ],
   "source": [
    "print(accuracy_score(ytest,ypred2))"
   ]
  },
  {
   "cell_type": "code",
   "execution_count": 42,
   "id": "de7b7c1d",
   "metadata": {},
   "outputs": [],
   "source": [
    "svc3=SVC(C=1000)\n",
    "svc3.fit(xtrain,ytrain)\n",
    "ypred3=svc3.predict(xtest)"
   ]
  },
  {
   "cell_type": "code",
   "execution_count": 43,
   "id": "7f1f3442",
   "metadata": {},
   "outputs": [
    {
     "name": "stdout",
     "output_type": "stream",
     "text": [
      "0.9808459696727854\n"
     ]
    }
   ],
   "source": [
    "print(accuracy_score(ytest,ypred3))"
   ]
  },
  {
   "cell_type": "code",
   "execution_count": 44,
   "id": "9cdef2b9",
   "metadata": {},
   "outputs": [],
   "source": [
    "lsvc1=SVC(kernel='linear')\n",
    "lsvc1.fit(xtrain,ytrain)\n",
    "ypred4=lsvc1.predict(xtest)"
   ]
  },
  {
   "cell_type": "code",
   "execution_count": 45,
   "id": "2818bd99",
   "metadata": {},
   "outputs": [
    {
     "name": "stdout",
     "output_type": "stream",
     "text": [
      "0.9780526735833999\n"
     ]
    }
   ],
   "source": [
    "print(accuracy_score(ytest,ypred4))"
   ]
  },
  {
   "cell_type": "code",
   "execution_count": 46,
   "id": "fff3597d",
   "metadata": {},
   "outputs": [],
   "source": [
    "lsvc2=SVC(kernel='linear',C=100)\n",
    "lsvc2.fit(xtrain,ytrain)\n",
    "ypred5=lsvc2.predict(xtest)"
   ]
  },
  {
   "cell_type": "code",
   "execution_count": 47,
   "id": "de9c4ed5",
   "metadata": {},
   "outputs": [
    {
     "name": "stdout",
     "output_type": "stream",
     "text": [
      "0.9776536312849162\n"
     ]
    }
   ],
   "source": [
    "print(accuracy_score(ytest,ypred5))"
   ]
  },
  {
   "cell_type": "code",
   "execution_count": 48,
   "id": "7fb4bb1e",
   "metadata": {},
   "outputs": [],
   "source": [
    "lsvc3=SVC(kernel='linear',C=1000)\n",
    "lsvc3.fit(xtrain,ytrain)\n",
    "ypred6=lsvc3.predict(xtest)"
   ]
  },
  {
   "cell_type": "code",
   "execution_count": 49,
   "id": "2b06e0f5",
   "metadata": {},
   "outputs": [
    {
     "name": "stdout",
     "output_type": "stream",
     "text": [
      "0.9780526735833999\n"
     ]
    }
   ],
   "source": [
    "print(accuracy_score(ytest,ypred6))"
   ]
  },
  {
   "cell_type": "code",
   "execution_count": 51,
   "id": "66b3e3ab",
   "metadata": {},
   "outputs": [],
   "source": [
    "psvc1=SVC(kernel='poly')\n",
    "psvc1.fit(xtrain,ytrain)\n",
    "ypred7=lsvc1.predict(xtest)"
   ]
  },
  {
   "cell_type": "code",
   "execution_count": 52,
   "id": "0fdc7212",
   "metadata": {},
   "outputs": [
    {
     "name": "stdout",
     "output_type": "stream",
     "text": [
      "0.9780526735833999\n"
     ]
    }
   ],
   "source": [
    "print(accuracy_score(ytest,ypred7))"
   ]
  },
  {
   "cell_type": "code",
   "execution_count": 53,
   "id": "c18358e5",
   "metadata": {},
   "outputs": [],
   "source": [
    "psvc2=SVC(kernel='poly',C=100)\n",
    "psvc2.fit(xtrain,ytrain)\n",
    "ypred8=lsvc2.predict(xtest)"
   ]
  },
  {
   "cell_type": "code",
   "execution_count": 54,
   "id": "ebdc7d07",
   "metadata": {},
   "outputs": [
    {
     "name": "stdout",
     "output_type": "stream",
     "text": [
      "0.9776536312849162\n"
     ]
    }
   ],
   "source": [
    "print(accuracy_score(ytest,ypred8))"
   ]
  },
  {
   "cell_type": "code",
   "execution_count": 59,
   "id": "8ab328f2",
   "metadata": {},
   "outputs": [],
   "source": [
    "psvc3=SVC(kernel='poly',C=1000)\n",
    "psvc3.fit(xtrain,ytrain)\n",
    "ypred9=lsvc2.predict(xtest)"
   ]
  },
  {
   "cell_type": "code",
   "execution_count": 60,
   "id": "d8d8ff8b",
   "metadata": {},
   "outputs": [
    {
     "name": "stdout",
     "output_type": "stream",
     "text": [
      "0.9776536312849162\n"
     ]
    }
   ],
   "source": [
    "print(accuracy_score(ytest,ypred9))"
   ]
  },
  {
   "cell_type": "code",
   "execution_count": 61,
   "id": "9225e7c8",
   "metadata": {},
   "outputs": [],
   "source": [
    "# model with C=1000 and kernel=rbf provided higher accuracy.\n",
    "# But we need to consider other metrics for better analysis of the model."
   ]
  },
  {
   "cell_type": "code",
   "execution_count": 62,
   "id": "a45a5fd5",
   "metadata": {},
   "outputs": [
    {
     "name": "stdout",
     "output_type": "stream",
     "text": [
      "0.9866294152863699\n",
      "0.9808459696727854\n"
     ]
    }
   ],
   "source": [
    "print(svc3.score(xtrain,ytrain))\n",
    "print(svc3.score(xtest,ytest))"
   ]
  },
  {
   "cell_type": "code",
   "execution_count": 63,
   "id": "944e5601",
   "metadata": {},
   "outputs": [
    {
     "data": {
      "text/plain": [
       "array([[2273,   12],\n",
       "       [  36,  185]], dtype=int64)"
      ]
     },
     "execution_count": 63,
     "metadata": {},
     "output_type": "execute_result"
    }
   ],
   "source": [
    "from sklearn.metrics import confusion_matrix\n",
    "cm=confusion_matrix(ytest,ypred3)\n",
    "cm"
   ]
  },
  {
   "cell_type": "code",
   "execution_count": 65,
   "id": "c01c2fe4",
   "metadata": {},
   "outputs": [
    {
     "name": "stdout",
     "output_type": "stream",
     "text": [
      "              precision    recall  f1-score   support\n",
      "\n",
      "         0.0       0.98      0.99      0.99      2285\n",
      "         1.0       0.94      0.84      0.89       221\n",
      "\n",
      "    accuracy                           0.98      2506\n",
      "   macro avg       0.96      0.92      0.94      2506\n",
      "weighted avg       0.98      0.98      0.98      2506\n",
      "\n"
     ]
    }
   ],
   "source": [
    "from sklearn.metrics import classification_report\n",
    "cr=classification_report(ytest,ypred3)\n",
    "print(cr)"
   ]
  },
  {
   "cell_type": "code",
   "execution_count": null,
   "id": "47b0066f",
   "metadata": {},
   "outputs": [],
   "source": []
  }
 ],
 "metadata": {
  "kernelspec": {
   "display_name": "Python 3",
   "language": "python",
   "name": "python3"
  },
  "language_info": {
   "codemirror_mode": {
    "name": "ipython",
    "version": 3
   },
   "file_extension": ".py",
   "mimetype": "text/x-python",
   "name": "python",
   "nbconvert_exporter": "python",
   "pygments_lexer": "ipython3",
   "version": "3.8.8"
  }
 },
 "nbformat": 4,
 "nbformat_minor": 5
}
